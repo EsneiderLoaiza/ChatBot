{
  "cells": [
    {
      "cell_type": "code",
      "execution_count": 1,
      "metadata": {
        "id": "bmiaaE2OH0n9"
      },
      "outputs": [],
      "source": [
        "import pickle\n",
        "\n",
        "import pandas as pd\n",
        "from sklearn import preprocessing\n",
        "from sklearn.feature_extraction.text import TfidfVectorizer\n",
        "from sklearn.linear_model import LogisticRegression\n",
        "from sklearn.model_selection import GridSearchCV"
      ]
    },
    {
      "cell_type": "code",
      "execution_count": 2,
      "metadata": {
        "colab": {
          "base_uri": "https://localhost:8080/",
          "height": 676
        },
        "id": "2xfLjPQdIlFZ",
        "outputId": "5d4d629a-970e-48a0-cdd0-7b300bff16a4"
      },
      "outputs": [
        {
          "data": {
            "text/html": [
              "<div>\n",
              "<style scoped>\n",
              "    .dataframe tbody tr th:only-of-type {\n",
              "        vertical-align: middle;\n",
              "    }\n",
              "\n",
              "    .dataframe tbody tr th {\n",
              "        vertical-align: top;\n",
              "    }\n",
              "\n",
              "    .dataframe thead th {\n",
              "        text-align: right;\n",
              "    }\n",
              "</style>\n",
              "<table border=\"1\" class=\"dataframe\">\n",
              "  <thead>\n",
              "    <tr style=\"text-align: right;\">\n",
              "      <th></th>\n",
              "      <th>request</th>\n",
              "      <th>response</th>\n",
              "    </tr>\n",
              "  </thead>\n",
              "  <tbody>\n",
              "    <tr>\n",
              "      <th>52</th>\n",
              "      <td>Quihubo</td>\n",
              "      <td>bien y tu</td>\n",
              "    </tr>\n",
              "    <tr>\n",
              "      <th>48</th>\n",
              "      <td>como lo trata la vida</td>\n",
              "      <td>bien ytu</td>\n",
              "    </tr>\n",
              "    <tr>\n",
              "      <th>113</th>\n",
              "      <td>bot como te va</td>\n",
              "      <td>Bien y tu</td>\n",
              "    </tr>\n",
              "    <tr>\n",
              "      <th>153</th>\n",
              "      <td>hasta luego bot</td>\n",
              "      <td>Ten un buen día</td>\n",
              "    </tr>\n",
              "    <tr>\n",
              "      <th>211</th>\n",
              "      <td>dolor de cabeza</td>\n",
              "      <td>Recuerda dormir lo suficiente y beber agua</td>\n",
              "    </tr>\n",
              "    <tr>\n",
              "      <th>62</th>\n",
              "      <td>Cuenteme</td>\n",
              "      <td>Te comunico con un asesor</td>\n",
              "    </tr>\n",
              "    <tr>\n",
              "      <th>55</th>\n",
              "      <td>Voy bien y tu</td>\n",
              "      <td>me alegro  ¿cuentame que necesitas?</td>\n",
              "    </tr>\n",
              "    <tr>\n",
              "      <th>37</th>\n",
              "      <td>¿cómo funciona?</td>\n",
              "      <td>Solo debes decirme que necesitas</td>\n",
              "    </tr>\n",
              "    <tr>\n",
              "      <th>151</th>\n",
              "      <td>gracias, hasta luego</td>\n",
              "      <td>Vuelve pronto</td>\n",
              "    </tr>\n",
              "    <tr>\n",
              "      <th>47</th>\n",
              "      <td>como va</td>\n",
              "      <td>bien y tu</td>\n",
              "    </tr>\n",
              "    <tr>\n",
              "      <th>133</th>\n",
              "      <td>chao bot</td>\n",
              "      <td>Vuelve pronto</td>\n",
              "    </tr>\n",
              "    <tr>\n",
              "      <th>49</th>\n",
              "      <td>saludo</td>\n",
              "      <td>Hola soy bot tu asistente virtual</td>\n",
              "    </tr>\n",
              "    <tr>\n",
              "      <th>109</th>\n",
              "      <td>bot como vai</td>\n",
              "      <td>no entiendo la pregunta</td>\n",
              "    </tr>\n",
              "    <tr>\n",
              "      <th>29</th>\n",
              "      <td>perfecto</td>\n",
              "      <td>me alegro  ¿cuentame que necesitas?</td>\n",
              "    </tr>\n",
              "    <tr>\n",
              "      <th>12</th>\n",
              "      <td>hasta luego</td>\n",
              "      <td>ten buen día</td>\n",
              "    </tr>\n",
              "    <tr>\n",
              "      <th>40</th>\n",
              "      <td>¿como te llamas?</td>\n",
              "      <td>Hola soy bot</td>\n",
              "    </tr>\n",
              "    <tr>\n",
              "      <th>105</th>\n",
              "      <td>bot como vas</td>\n",
              "      <td>Bien y tu</td>\n",
              "    </tr>\n",
              "    <tr>\n",
              "      <th>25</th>\n",
              "      <td>todo bien</td>\n",
              "      <td>me alegro  ¿cuentame que necesitas?</td>\n",
              "    </tr>\n",
              "    <tr>\n",
              "      <th>91</th>\n",
              "      <td>Hello</td>\n",
              "      <td>Hola soy bot tu asistente virtual</td>\n",
              "    </tr>\n",
              "    <tr>\n",
              "      <th>110</th>\n",
              "      <td>bot como has estado</td>\n",
              "      <td>Bien y tu</td>\n",
              "    </tr>\n",
              "  </tbody>\n",
              "</table>\n",
              "</div>"
            ],
            "text/plain": [
              "                    request                                    response\n",
              "52                  Quihubo                                   bien y tu\n",
              "48    como lo trata la vida                                    bien ytu\n",
              "113          bot como te va                                   Bien y tu\n",
              "153         hasta luego bot                             Ten un buen día\n",
              "211         dolor de cabeza  Recuerda dormir lo suficiente y beber agua\n",
              "62                Cuenteme                    Te comunico con un asesor\n",
              "55            Voy bien y tu         me alegro  ¿cuentame que necesitas?\n",
              "37         ¿cómo funciona?             Solo debes decirme que necesitas\n",
              "151    gracias, hasta luego                               Vuelve pronto\n",
              "47                  como va                                   bien y tu\n",
              "133                chao bot                               Vuelve pronto\n",
              "49                  saludo            Hola soy bot tu asistente virtual\n",
              "109            bot como vai                     no entiendo la pregunta\n",
              "29                 perfecto         me alegro  ¿cuentame que necesitas?\n",
              "12             hasta luego                                 ten buen día\n",
              "40        ¿como te llamas?                                Hola soy bot \n",
              "105            bot como vas                                   Bien y tu\n",
              "25                todo bien         me alegro  ¿cuentame que necesitas?\n",
              "91                    Hello           Hola soy bot tu asistente virtual\n",
              "110     bot como has estado                                   Bien y tu"
            ]
          },
          "execution_count": 2,
          "metadata": {},
          "output_type": "execute_result"
        }
      ],
      "source": [
        "# \" LOAD DATA BASE\"\n",
        "dataset = 'ResponseChatBot.xlsx'\n",
        "knowledge_base = pd.read_excel(dataset)\n",
        "knowledge_base.sample(n=20).head(20)"
      ]
    },
    {
      "cell_type": "code",
      "execution_count": 3,
      "metadata": {
        "colab": {
          "base_uri": "https://localhost:8080/"
        },
        "id": "zaTxvPBjJ1en",
        "outputId": "391ffaad-8f2c-4d93-f952-aa4ef66dd1c9"
      },
      "outputs": [
        {
          "data": {
            "text/plain": [
              "array(['hola', 'buenas', 'buenas  tardes', 'buenas noches', 'Buenos dias',\n",
              "       'adiós ', 'ten buen día', 'bien y tu', 'estuvo bien y el tuyo ',\n",
              "       'bye', 'Hola soy bot tu asistente virtual', 'Te leo',\n",
              "       'Hola soy bot ', 'Solo debes decirme que necesitas',\n",
              "       'me alegro  ¿cuentame que necesitas?', '¿En que te ayudo?',\n",
              "       'Te comunico con un asesor', 'bien ytu', 'bieny tu',\n",
              "       'ten buen dia', 'Vuelve pronto', 'Bien y tu',\n",
              "       'no entiendo la pregunta', 'Ten un buen día',\n",
              "       'Recuerda no abrigarte demasiado, tomar liquido y dormir bien',\n",
              "       'Recuerda dormir lo suficiente y beber agua',\n",
              "       'No estás sol@, busca a tu amigo o familiar más cercano y acude con un profesional',\n",
              "       'Si el dolor le impide movimiento ir donde tu medico de familia',\n",
              "       'podria tratarse de diferente enfermedades  si sientes otros sintomas ve donde tu medico ',\n",
              "       'Relajate y haz respiraciones sucesivas, no te alteres y consulta tu medico',\n",
              "       'Recuerda medir tu temperatura,  darte un baño, descansar sihay mas sintomas ir al medico',\n",
              "       'Te puede ayudar los masajes, algunos estiramientos y descansar las horas debidas '],\n",
              "      dtype=object)"
            ]
          },
          "execution_count": 3,
          "metadata": {},
          "output_type": "execute_result"
        }
      ],
      "source": [
        "knowledge_base[\"response\"].unique()"
      ]
    },
    {
      "cell_type": "code",
      "execution_count": 4,
      "metadata": {
        "colab": {
          "base_uri": "https://localhost:8080/"
        },
        "id": "0qU1WevtJSKw",
        "outputId": "05dc3916-c3d1-460b-9a5c-5ebdd2cd2dd3"
      },
      "outputs": [
        {
          "data": {
            "text/plain": [
              "225"
            ]
          },
          "execution_count": 4,
          "metadata": {},
          "output_type": "execute_result"
        }
      ],
      "source": [
        "len(knowledge_base)"
      ]
    },
    {
      "cell_type": "code",
      "execution_count": 5,
      "metadata": {
        "colab": {
          "base_uri": "https://localhost:8080/"
        },
        "id": "mmsH-Rj7KGJ_",
        "outputId": "59debe01-830d-4953-eb0a-4bad4539f9ef"
      },
      "outputs": [
        {
          "data": {
            "text/plain": [
              "array([25, 25, 20, 21, 22,  1, 25, 25, 25, 25, 16, 16, 30, 17, 17, 24, 17,\n",
              "       17, 23,  3, 12,  2, 10, 26, 26, 26, 26, 26, 26, 26, 26, 26, 26,  3,\n",
              "       12,  2, 17, 10,  3, 12,  2, 17, 10, 31, 11,  3, 17, 17, 18,  3,  3,\n",
              "       19, 17, 17, 17, 26, 26, 26, 17, 11, 11, 11, 11, 26, 26, 26, 26, 26,\n",
              "       26, 26, 26, 26, 29, 29, 29, 29, 29, 26, 26, 26,  3,  3,  3,  3,  3,\n",
              "        3,  3,  3,  3,  3,  3,  3,  3,  3, 15, 15, 15, 26,  3,  3,  3,  0,\n",
              "        3,  0,  0,  0,  3,  3,  3, 27,  0,  0,  0,  0,  3,  3,  3, 14, 15,\n",
              "       14, 15, 14, 15, 14, 15, 14, 15, 14, 15, 27, 15, 15, 15, 15, 15, 15,\n",
              "       27, 15, 27, 15, 15, 15, 15, 14, 15, 15, 14, 14, 15, 14, 15, 15, 14,\n",
              "       14, 15, 14, 15, 14, 15, 15, 15, 14, 15, 27, 15, 14, 15, 27, 15, 15,\n",
              "       14, 15, 14, 15, 15, 14, 14, 15, 14, 15, 14, 15, 15, 15, 15, 27, 15,\n",
              "       27, 27, 15, 15, 27, 27, 27, 27, 27, 27, 27, 27, 27, 27, 27, 27, 27,\n",
              "       27,  7,  5,  4,  9, 28,  8,  5,  4,  4,  5,  6,  7,  7,  7, 13, 13,\n",
              "       13, 13, 13, 13])"
            ]
          },
          "execution_count": 5,
          "metadata": {},
          "output_type": "execute_result"
        }
      ],
      "source": [
        "# label encode the target variable to transform non-numerical labels\n",
        "encoder = preprocessing.LabelEncoder()\n",
        "y = encoder.fit_transform(knowledge_base[\"response\"])  # numerical labels\n",
        "y"
      ]
    },
    {
      "cell_type": "code",
      "execution_count": 6,
      "metadata": {
        "colab": {
          "base_uri": "https://localhost:8080/"
        },
        "id": "iWN5nN_hKTsO",
        "outputId": "696ec0cc-e23f-4326-b1f9-55527bea207f"
      },
      "outputs": [
        {
          "data": {
            "text/plain": [
              "array(['Bien y tu', 'Buenos dias', 'Hola soy bot ',\n",
              "       'Hola soy bot tu asistente virtual',\n",
              "       'No estás sol@, busca a tu amigo o familiar más cercano y acude con un profesional',\n",
              "       'Recuerda dormir lo suficiente y beber agua',\n",
              "       'Recuerda medir tu temperatura,  darte un baño, descansar sihay mas sintomas ir al medico',\n",
              "       'Recuerda no abrigarte demasiado, tomar liquido y dormir bien',\n",
              "       'Relajate y haz respiraciones sucesivas, no te alteres y consulta tu medico',\n",
              "       'Si el dolor le impide movimiento ir donde tu medico de familia',\n",
              "       'Solo debes decirme que necesitas', 'Te comunico con un asesor',\n",
              "       'Te leo',\n",
              "       'Te puede ayudar los masajes, algunos estiramientos y descansar las horas debidas ',\n",
              "       'Ten un buen día', 'Vuelve pronto', 'adiós ', 'bien y tu',\n",
              "       'bien ytu', 'bieny tu', 'buenas', 'buenas  tardes',\n",
              "       'buenas noches', 'bye', 'estuvo bien y el tuyo ', 'hola',\n",
              "       'me alegro  ¿cuentame que necesitas?', 'no entiendo la pregunta',\n",
              "       'podria tratarse de diferente enfermedades  si sientes otros sintomas ve donde tu medico ',\n",
              "       'ten buen dia', 'ten buen día', '¿En que te ayudo?'], dtype=object)"
            ]
          },
          "execution_count": 6,
          "metadata": {},
          "output_type": "execute_result"
        }
      ],
      "source": [
        "intent_names = encoder.classes_\n",
        "intent_names"
      ]
    },
    {
      "cell_type": "code",
      "execution_count": 7,
      "metadata": {
        "colab": {
          "base_uri": "https://localhost:8080/"
        },
        "id": "ru88UFjVMG2u",
        "outputId": "af304648-d7c0-417f-849f-5c3ff4cde5e8"
      },
      "outputs": [
        {
          "data": {
            "text/plain": [
              "0                     hola\n",
              "1                       hi\n",
              "2                   buenas\n",
              "3            buenas tardes\n",
              "4            buenas noches\n",
              "              ...         \n",
              "220       Me duele la mano\n",
              "221      Me duele el brazo\n",
              "222        Me duele el pie\n",
              "223     Me duele la pierna\n",
              "224    Me duele la espalda\n",
              "Name: request, Length: 225, dtype: object"
            ]
          },
          "execution_count": 7,
          "metadata": {},
          "output_type": "execute_result"
        }
      ],
      "source": [
        "x = knowledge_base[\"request\"]\n",
        "x"
      ]
    },
    {
      "cell_type": "code",
      "execution_count": 8,
      "metadata": {
        "id": "KjZmehuLcOYw"
      },
      "outputs": [],
      "source": [
        "from sklearn.model_selection import train_test_split\n",
        "# Hold-out Partition\n",
        "X_train, X_test, y_train, y_test = train_test_split(x, y,\n",
        "                                                    random_state=0)\n",
        "\n",
        "# PROCESAMIENTO\n",
        "\n",
        "## ...."
      ]
    },
    {
      "cell_type": "code",
      "execution_count": 9,
      "metadata": {
        "colab": {
          "base_uri": "https://localhost:8080/"
        },
        "id": "zye2w8hOKeLY",
        "outputId": "c8230aef-d1e7-431f-841c-d1675119b870"
      },
      "outputs": [
        {
          "data": {
            "text/plain": [
              "<168x145 sparse matrix of type '<class 'numpy.float64'>'\n",
              "\twith 359 stored elements in Compressed Sparse Row format>"
            ]
          },
          "execution_count": 9,
          "metadata": {},
          "output_type": "execute_result"
        }
      ],
      "source": [
        "\" TF-IDF score represents the relative importance of a term in the document and the entire corpus. \"\n",
        "tfidf_vect = TfidfVectorizer()\n",
        "tfidf_vect.fit(X_train)\n",
        "x_train_tfidf = tfidf_vect.transform(X_train)\n",
        "x_train_tfidf"
      ]
    },
    {
      "cell_type": "code",
      "execution_count": 10,
      "metadata": {
        "colab": {
          "base_uri": "https://localhost:8080/"
        },
        "id": "Cb-8UAayVA4F",
        "outputId": "7b2b7023-aebd-47f1-cb1f-d0a59f087869"
      },
      "outputs": [
        {
          "data": {
            "text/plain": [
              "array(['abdominal', 'adios', 'ah', 'aja', 'alta', 'asi', 'ayuda', 'bien',\n",
              "       'biencito', 'bot', 'brazo', 'buenas', 'bueno', 'bye', 'cabeza',\n",
              "       'cancela', 'cancelar', 'capito', 'chao', 'chaolin', 'chau',\n",
              "       'chauuu', 'color', 'como', 'conversación', 'creo', 'cuentame',\n",
              "       'cuenteme', 'cuerpo', 'cómo', 'de', 'debo', 'deseo', 'dia', 'dias',\n",
              "       'dime', 'doki', 'dolor', 'dsd', 'duele', 'día', 'el', 'en',\n",
              "       'encuentro', 'entendido', 'entendí', 'eres', 'espalda', 'esta',\n",
              "       'estas', 'este', 'estoy', 'estubo', 'estuvo', 'estás', 'estés',\n",
              "       'ey', 'favorito', 'fdfgghfdgfdgdg', 'feliz', 'fiebre', 'funciona',\n",
              "       'gracias', 'hablamos', 'hablar', 'haces', 'hasta', 'hello', 'helo',\n",
              "       'hi', 'hola', 'holita', 'hubo', 'igual', 'info', 'irme', 'jelo',\n",
              "       'la', 'llamas', 'lo', 'localizado', 'luego', 'mano', 'me', 'mi',\n",
              "       'muchas', 'muy', 'nada', 'nausea', 'necesito', 'no', 'noches',\n",
              "       'nos', 'ok', 'oka', 'oki', 'ola', 'olita', 'perfecto', 'pie',\n",
              "       'pierna', 'por', 'presion', 'proceso', 'pronto', 'que', 'quien',\n",
              "       'quiero', 'quihubo', 'quién', 'qué', 'regresé', 'salgo', 'salir',\n",
              "       'saludo', 'saludos', 'sds', 'see', 'seguir', 'sirvió', 'sisas',\n",
              "       'sofi', 'sofy', 'solicitud', 'suerte', 'tal', 'tardes', 'te',\n",
              "       'tengo', 'todo', 'trata', 'triste', 'tu', 'va', 'vai', 'vas',\n",
              "       'vemos', 'vida', 'vien', 'viencito', 'vuenas', 'vueno', 'vuenos',\n",
              "       'yo', 'you'], dtype=object)"
            ]
          },
          "execution_count": 10,
          "metadata": {},
          "output_type": "execute_result"
        }
      ],
      "source": [
        "tfidf_vect.get_feature_names_out()"
      ]
    },
    {
      "cell_type": "code",
      "execution_count": 11,
      "metadata": {
        "colab": {
          "base_uri": "https://localhost:8080/"
        },
        "id": "lDnAhHtbNI3l",
        "outputId": "ddaa1c01-ff6b-41d5-e6f0-eb421fb7550f"
      },
      "outputs": [
        {
          "name": "stderr",
          "output_type": "stream",
          "text": [
            "/home/esneider/.local/lib/python3.8/site-packages/sklearn/model_selection/_split.py:684: UserWarning: The least populated class in y has only 1 members, which is less than n_splits=5.\n",
            "  warnings.warn(\n",
            "/home/esneider/.local/lib/python3.8/site-packages/sklearn/linear_model/_logistic.py:444: ConvergenceWarning: lbfgs failed to converge (status=1):\n",
            "STOP: TOTAL NO. of ITERATIONS REACHED LIMIT.\n",
            "\n",
            "Increase the number of iterations (max_iter) or scale the data as shown in:\n",
            "    https://scikit-learn.org/stable/modules/preprocessing.html\n",
            "Please also refer to the documentation for alternative solver options:\n",
            "    https://scikit-learn.org/stable/modules/linear_model.html#logistic-regression\n",
            "  n_iter_i = _check_optimize_result(\n",
            "/home/esneider/.local/lib/python3.8/site-packages/sklearn/linear_model/_logistic.py:444: ConvergenceWarning: lbfgs failed to converge (status=1):\n",
            "STOP: TOTAL NO. of ITERATIONS REACHED LIMIT.\n",
            "\n",
            "Increase the number of iterations (max_iter) or scale the data as shown in:\n",
            "    https://scikit-learn.org/stable/modules/preprocessing.html\n",
            "Please also refer to the documentation for alternative solver options:\n",
            "    https://scikit-learn.org/stable/modules/linear_model.html#logistic-regression\n",
            "  n_iter_i = _check_optimize_result(\n",
            "/home/esneider/.local/lib/python3.8/site-packages/sklearn/linear_model/_logistic.py:444: ConvergenceWarning: lbfgs failed to converge (status=1):\n",
            "STOP: TOTAL NO. of ITERATIONS REACHED LIMIT.\n",
            "\n",
            "Increase the number of iterations (max_iter) or scale the data as shown in:\n",
            "    https://scikit-learn.org/stable/modules/preprocessing.html\n",
            "Please also refer to the documentation for alternative solver options:\n",
            "    https://scikit-learn.org/stable/modules/linear_model.html#logistic-regression\n",
            "  n_iter_i = _check_optimize_result(\n",
            "/home/esneider/.local/lib/python3.8/site-packages/sklearn/linear_model/_logistic.py:444: ConvergenceWarning: lbfgs failed to converge (status=1):\n",
            "STOP: TOTAL NO. of ITERATIONS REACHED LIMIT.\n",
            "\n",
            "Increase the number of iterations (max_iter) or scale the data as shown in:\n",
            "    https://scikit-learn.org/stable/modules/preprocessing.html\n",
            "Please also refer to the documentation for alternative solver options:\n",
            "    https://scikit-learn.org/stable/modules/linear_model.html#logistic-regression\n",
            "  n_iter_i = _check_optimize_result(\n",
            "/home/esneider/.local/lib/python3.8/site-packages/sklearn/linear_model/_logistic.py:444: ConvergenceWarning: lbfgs failed to converge (status=1):\n",
            "STOP: TOTAL NO. of ITERATIONS REACHED LIMIT.\n",
            "\n",
            "Increase the number of iterations (max_iter) or scale the data as shown in:\n",
            "    https://scikit-learn.org/stable/modules/preprocessing.html\n",
            "Please also refer to the documentation for alternative solver options:\n",
            "    https://scikit-learn.org/stable/modules/linear_model.html#logistic-regression\n",
            "  n_iter_i = _check_optimize_result(\n"
          ]
        },
        {
          "data": {
            "text/html": [
              "<style>#sk-container-id-1 {color: black;background-color: white;}#sk-container-id-1 pre{padding: 0;}#sk-container-id-1 div.sk-toggleable {background-color: white;}#sk-container-id-1 label.sk-toggleable__label {cursor: pointer;display: block;width: 100%;margin-bottom: 0;padding: 0.3em;box-sizing: border-box;text-align: center;}#sk-container-id-1 label.sk-toggleable__label-arrow:before {content: \"▸\";float: left;margin-right: 0.25em;color: #696969;}#sk-container-id-1 label.sk-toggleable__label-arrow:hover:before {color: black;}#sk-container-id-1 div.sk-estimator:hover label.sk-toggleable__label-arrow:before {color: black;}#sk-container-id-1 div.sk-toggleable__content {max-height: 0;max-width: 0;overflow: hidden;text-align: left;background-color: #f0f8ff;}#sk-container-id-1 div.sk-toggleable__content pre {margin: 0.2em;color: black;border-radius: 0.25em;background-color: #f0f8ff;}#sk-container-id-1 input.sk-toggleable__control:checked~div.sk-toggleable__content {max-height: 200px;max-width: 100%;overflow: auto;}#sk-container-id-1 input.sk-toggleable__control:checked~label.sk-toggleable__label-arrow:before {content: \"▾\";}#sk-container-id-1 div.sk-estimator input.sk-toggleable__control:checked~label.sk-toggleable__label {background-color: #d4ebff;}#sk-container-id-1 div.sk-label input.sk-toggleable__control:checked~label.sk-toggleable__label {background-color: #d4ebff;}#sk-container-id-1 input.sk-hidden--visually {border: 0;clip: rect(1px 1px 1px 1px);clip: rect(1px, 1px, 1px, 1px);height: 1px;margin: -1px;overflow: hidden;padding: 0;position: absolute;width: 1px;}#sk-container-id-1 div.sk-estimator {font-family: monospace;background-color: #f0f8ff;border: 1px dotted black;border-radius: 0.25em;box-sizing: border-box;margin-bottom: 0.5em;}#sk-container-id-1 div.sk-estimator:hover {background-color: #d4ebff;}#sk-container-id-1 div.sk-parallel-item::after {content: \"\";width: 100%;border-bottom: 1px solid gray;flex-grow: 1;}#sk-container-id-1 div.sk-label:hover label.sk-toggleable__label {background-color: #d4ebff;}#sk-container-id-1 div.sk-serial::before {content: \"\";position: absolute;border-left: 1px solid gray;box-sizing: border-box;top: 0;bottom: 0;left: 50%;z-index: 0;}#sk-container-id-1 div.sk-serial {display: flex;flex-direction: column;align-items: center;background-color: white;padding-right: 0.2em;padding-left: 0.2em;position: relative;}#sk-container-id-1 div.sk-item {position: relative;z-index: 1;}#sk-container-id-1 div.sk-parallel {display: flex;align-items: stretch;justify-content: center;background-color: white;position: relative;}#sk-container-id-1 div.sk-item::before, #sk-container-id-1 div.sk-parallel-item::before {content: \"\";position: absolute;border-left: 1px solid gray;box-sizing: border-box;top: 0;bottom: 0;left: 50%;z-index: -1;}#sk-container-id-1 div.sk-parallel-item {display: flex;flex-direction: column;z-index: 1;position: relative;background-color: white;}#sk-container-id-1 div.sk-parallel-item:first-child::after {align-self: flex-end;width: 50%;}#sk-container-id-1 div.sk-parallel-item:last-child::after {align-self: flex-start;width: 50%;}#sk-container-id-1 div.sk-parallel-item:only-child::after {width: 0;}#sk-container-id-1 div.sk-dashed-wrapped {border: 1px dashed gray;margin: 0 0.4em 0.5em 0.4em;box-sizing: border-box;padding-bottom: 0.4em;background-color: white;}#sk-container-id-1 div.sk-label label {font-family: monospace;font-weight: bold;display: inline-block;line-height: 1.2em;}#sk-container-id-1 div.sk-label-container {text-align: center;}#sk-container-id-1 div.sk-container {/* jupyter's `normalize.less` sets `[hidden] { display: none; }` but bootstrap.min.css set `[hidden] { display: none !important; }` so we also need the `!important` here to be able to override the default hidden behavior on the sphinx rendered scikit-learn.org. See: https://github.com/scikit-learn/scikit-learn/issues/21755 */display: inline-block !important;position: relative;}#sk-container-id-1 div.sk-text-repr-fallback {display: none;}</style><div id=\"sk-container-id-1\" class=\"sk-top-container\"><div class=\"sk-text-repr-fallback\"><pre>GridSearchCV(cv=5, estimator=LogisticRegression(),\n",
              "             param_grid={&#x27;C&#x27;: [0.001, 0.1, 0.1, 10, 100, 1000]},\n",
              "             scoring=&#x27;accuracy&#x27;)</pre><b>In a Jupyter environment, please rerun this cell to show the HTML representation or trust the notebook. <br />On GitHub, the HTML representation is unable to render, please try loading this page with nbviewer.org.</b></div><div class=\"sk-container\" hidden><div class=\"sk-item sk-dashed-wrapped\"><div class=\"sk-label-container\"><div class=\"sk-label sk-toggleable\"><input class=\"sk-toggleable__control sk-hidden--visually\" id=\"sk-estimator-id-1\" type=\"checkbox\" ><label for=\"sk-estimator-id-1\" class=\"sk-toggleable__label sk-toggleable__label-arrow\">GridSearchCV</label><div class=\"sk-toggleable__content\"><pre>GridSearchCV(cv=5, estimator=LogisticRegression(),\n",
              "             param_grid={&#x27;C&#x27;: [0.001, 0.1, 0.1, 10, 100, 1000]},\n",
              "             scoring=&#x27;accuracy&#x27;)</pre></div></div></div><div class=\"sk-parallel\"><div class=\"sk-parallel-item\"><div class=\"sk-item\"><div class=\"sk-label-container\"><div class=\"sk-label sk-toggleable\"><input class=\"sk-toggleable__control sk-hidden--visually\" id=\"sk-estimator-id-2\" type=\"checkbox\" ><label for=\"sk-estimator-id-2\" class=\"sk-toggleable__label sk-toggleable__label-arrow\">estimator: LogisticRegression</label><div class=\"sk-toggleable__content\"><pre>LogisticRegression()</pre></div></div></div><div class=\"sk-serial\"><div class=\"sk-item\"><div class=\"sk-estimator sk-toggleable\"><input class=\"sk-toggleable__control sk-hidden--visually\" id=\"sk-estimator-id-3\" type=\"checkbox\" ><label for=\"sk-estimator-id-3\" class=\"sk-toggleable__label sk-toggleable__label-arrow\">LogisticRegression</label><div class=\"sk-toggleable__content\"><pre>LogisticRegression()</pre></div></div></div></div></div></div></div></div></div></div>"
            ],
            "text/plain": [
              "GridSearchCV(cv=5, estimator=LogisticRegression(),\n",
              "             param_grid={'C': [0.001, 0.1, 0.1, 10, 100, 1000]},\n",
              "             scoring='accuracy')"
            ]
          },
          "execution_count": 11,
          "metadata": {},
          "output_type": "execute_result"
        }
      ],
      "source": [
        "\" MODEL TRAINING AND DEVELOPMENT\"\n",
        "nfolds = 5\n",
        "tuned_parameters = {'C': [0.001, 0.10, 0.1, 10, 100, 1000]}\n",
        "lr_model = GridSearchCV(LogisticRegression(), tuned_parameters, cv=nfolds,  scoring='accuracy') \n",
        "lr_model.fit(x_train_tfidf, y_train)"
      ]
    },
    {
      "cell_type": "code",
      "execution_count": 12,
      "metadata": {
        "colab": {
          "base_uri": "https://localhost:8080/",
          "height": 237
        },
        "id": "9smMZTOLn3dw",
        "outputId": "55408a07-9f09-417f-ddf8-dea8d62aada9"
      },
      "outputs": [
        {
          "data": {
            "text/html": [
              "<div>\n",
              "<style scoped>\n",
              "    .dataframe tbody tr th:only-of-type {\n",
              "        vertical-align: middle;\n",
              "    }\n",
              "\n",
              "    .dataframe tbody tr th {\n",
              "        vertical-align: top;\n",
              "    }\n",
              "\n",
              "    .dataframe thead th {\n",
              "        text-align: right;\n",
              "    }\n",
              "</style>\n",
              "<table border=\"1\" class=\"dataframe\">\n",
              "  <thead>\n",
              "    <tr style=\"text-align: right;\">\n",
              "      <th></th>\n",
              "      <th>C</th>\n",
              "      <th>Mean</th>\n",
              "      <th>STD</th>\n",
              "    </tr>\n",
              "  </thead>\n",
              "  <tbody>\n",
              "    <tr>\n",
              "      <th>0</th>\n",
              "      <td>0.001</td>\n",
              "      <td>0.196435</td>\n",
              "      <td>0.014400</td>\n",
              "    </tr>\n",
              "    <tr>\n",
              "      <th>1</th>\n",
              "      <td>0.100</td>\n",
              "      <td>0.196435</td>\n",
              "      <td>0.014400</td>\n",
              "    </tr>\n",
              "    <tr>\n",
              "      <th>2</th>\n",
              "      <td>0.100</td>\n",
              "      <td>0.196435</td>\n",
              "      <td>0.014400</td>\n",
              "    </tr>\n",
              "    <tr>\n",
              "      <th>3</th>\n",
              "      <td>10.000</td>\n",
              "      <td>0.488057</td>\n",
              "      <td>0.077489</td>\n",
              "    </tr>\n",
              "    <tr>\n",
              "      <th>4</th>\n",
              "      <td>100.000</td>\n",
              "      <td>0.469875</td>\n",
              "      <td>0.095557</td>\n",
              "    </tr>\n",
              "    <tr>\n",
              "      <th>5</th>\n",
              "      <td>1000.000</td>\n",
              "      <td>0.463993</td>\n",
              "      <td>0.088753</td>\n",
              "    </tr>\n",
              "  </tbody>\n",
              "</table>\n",
              "</div>"
            ],
            "text/plain": [
              "          C      Mean       STD\n",
              "0     0.001  0.196435  0.014400\n",
              "1     0.100  0.196435  0.014400\n",
              "2     0.100  0.196435  0.014400\n",
              "3    10.000  0.488057  0.077489\n",
              "4   100.000  0.469875  0.095557\n",
              "5  1000.000  0.463993  0.088753"
            ]
          },
          "execution_count": 12,
          "metadata": {},
          "output_type": "execute_result"
        }
      ],
      "source": [
        "means = lr_model.cv_results_['mean_test_score']\n",
        "stds = lr_model.cv_results_['std_test_score']\n",
        "parameters = lr_model.cv_results_['params']\n",
        "results = pd.concat((pd.DataFrame.from_dict(parameters), pd.DataFrame(means, columns=['Mean']), pd.DataFrame(stds, columns=['STD'])), axis=1)\n",
        "results"
      ]
    },
    {
      "cell_type": "code",
      "execution_count": 13,
      "metadata": {
        "colab": {
          "base_uri": "https://localhost:8080/"
        },
        "id": "bgtWz7UVpCzu",
        "outputId": "41cf9890-a19f-412f-9c77-9c9006df9dad"
      },
      "outputs": [
        {
          "data": {
            "text/plain": [
              "10"
            ]
          },
          "execution_count": 13,
          "metadata": {},
          "output_type": "execute_result"
        }
      ],
      "source": [
        "best_c = lr_model.cv_results_['params'][lr_model.best_index_]['C']\n",
        "best_c"
      ]
    },
    {
      "cell_type": "code",
      "execution_count": 14,
      "metadata": {
        "id": "9k8ia4qOhD4Z"
      },
      "outputs": [],
      "source": [
        "# TEST & METRICS & ERROR ANALYSIS\n",
        "\n",
        "best_lr_model = LogisticRegression(C=best_c).fit(x_train_tfidf, y_train)"
      ]
    },
    {
      "cell_type": "code",
      "execution_count": 15,
      "metadata": {
        "colab": {
          "base_uri": "https://localhost:8080/"
        },
        "id": "TLFoWG4Vge7a",
        "outputId": "365c85e8-99b9-4635-a685-740e7ec3ca26"
      },
      "outputs": [
        {
          "data": {
            "text/plain": [
              "111          bot como te ha ido\n",
              "101                 bot que tal\n",
              "197                      altura\n",
              "183    salir de la conversación\n",
              "75               muchas gracias\n",
              "Name: request, dtype: object"
            ]
          },
          "execution_count": 15,
          "metadata": {},
          "output_type": "execute_result"
        }
      ],
      "source": [
        "X_test.head()"
      ]
    },
    {
      "cell_type": "code",
      "execution_count": 16,
      "metadata": {
        "id": "xGPAHkLQgliE"
      },
      "outputs": [],
      "source": [
        "# PROCESAMIENTO DEL CONJUNTO DE TEST"
      ]
    },
    {
      "cell_type": "code",
      "execution_count": 17,
      "metadata": {
        "colab": {
          "base_uri": "https://localhost:8080/"
        },
        "id": "j1ZqJuEYTT8Z",
        "outputId": "5bd427ce-5a76-4df1-c668-40d94efe5b4f"
      },
      "outputs": [
        {
          "data": {
            "text/plain": [
              "<57x145 sparse matrix of type '<class 'numpy.float64'>'\n",
              "\twith 112 stored elements in Compressed Sparse Row format>"
            ]
          },
          "execution_count": 17,
          "metadata": {},
          "output_type": "execute_result"
        }
      ],
      "source": [
        "x_test_tfidf = tfidf_vect.transform(X_test)\n",
        "x_test_tfidf"
      ]
    },
    {
      "cell_type": "code",
      "execution_count": 18,
      "metadata": {
        "id": "ki2ai781VgpX"
      },
      "outputs": [],
      "source": [
        "y_pred = best_lr_model.predict(x_test_tfidf)"
      ]
    },
    {
      "cell_type": "code",
      "execution_count": 19,
      "metadata": {
        "colab": {
          "base_uri": "https://localhost:8080/",
          "height": 296
        },
        "id": "te2R1WCZThFg",
        "outputId": "177df0a8-f7a5-49ba-a6d6-09d9e8c28235"
      },
      "outputs": [
        {
          "data": {
            "text/plain": [
              "<sklearn.metrics._plot.confusion_matrix.ConfusionMatrixDisplay at 0x7fc3d1399220>"
            ]
          },
          "execution_count": 19,
          "metadata": {},
          "output_type": "execute_result"
        },
        {
          "data": {
            "image/png": "[encoded data removed]",
            "text/plain": [
              "<Figure size 640x480 with 2 Axes>"
            ]
          },
          "metadata": {},
          "output_type": "display_data"
        }
      ],
      "source": [
        "from sklearn.metrics import confusion_matrix, ConfusionMatrixDisplay, classification_report\n",
        "cm = confusion_matrix(y_test, y_pred)\n",
        "disp = ConfusionMatrixDisplay(confusion_matrix=cm)\n",
        "disp.plot()"
      ]
    },
    {
      "cell_type": "code",
      "execution_count": 20,
      "metadata": {
        "colab": {
          "base_uri": "https://localhost:8080/"
        },
        "id": "RUm7RSLXT4Jp",
        "outputId": "f2e85dca-2b3d-4941-82de-79b13361b6a7"
      },
      "outputs": [
        {
          "name": "stdout",
          "output_type": "stream",
          "text": [
            "              precision    recall  f1-score   support\n",
            "\n",
            "           0       1.00      0.50      0.67         4\n",
            "           1       0.00      0.00      0.00         1\n",
            "           2       0.00      0.00      0.00         0\n",
            "           3       0.62      0.62      0.62         8\n",
            "           4       1.00      0.50      0.67         2\n",
            "          10       1.00      1.00      1.00         1\n",
            "          11       0.00      0.00      0.00         1\n",
            "          13       0.00      0.00      0.00         0\n",
            "          14       0.29      0.25      0.27         8\n",
            "          15       0.38      0.57      0.46        14\n",
            "          17       0.25      1.00      0.40         1\n",
            "          22       0.00      0.00      0.00         0\n",
            "          23       0.00      0.00      0.00         1\n",
            "          24       0.00      0.00      0.00         1\n",
            "          25       0.00      0.00      0.00         2\n",
            "          26       1.00      0.50      0.67         4\n",
            "          27       0.20      0.20      0.20         5\n",
            "          29       0.67      0.67      0.67         3\n",
            "          30       0.00      0.00      0.00         1\n",
            "\n",
            "    accuracy                           0.44        57\n",
            "   macro avg       0.34      0.31      0.30        57\n",
            "weighted avg       0.47      0.44      0.43        57\n",
            "\n"
          ]
        },
        {
          "name": "stderr",
          "output_type": "stream",
          "text": [
            "/home/esneider/.local/lib/python3.8/site-packages/sklearn/metrics/_classification.py:1334: UndefinedMetricWarning: Precision and F-score are ill-defined and being set to 0.0 in labels with no predicted samples. Use `zero_division` parameter to control this behavior.\n",
            "  _warn_prf(average, modifier, msg_start, len(result))\n",
            "/home/esneider/.local/lib/python3.8/site-packages/sklearn/metrics/_classification.py:1334: UndefinedMetricWarning: Recall and F-score are ill-defined and being set to 0.0 in labels with no true samples. Use `zero_division` parameter to control this behavior.\n",
            "  _warn_prf(average, modifier, msg_start, len(result))\n",
            "/home/esneider/.local/lib/python3.8/site-packages/sklearn/metrics/_classification.py:1334: UndefinedMetricWarning: Precision and F-score are ill-defined and being set to 0.0 in labels with no predicted samples. Use `zero_division` parameter to control this behavior.\n",
            "  _warn_prf(average, modifier, msg_start, len(result))\n",
            "/home/esneider/.local/lib/python3.8/site-packages/sklearn/metrics/_classification.py:1334: UndefinedMetricWarning: Recall and F-score are ill-defined and being set to 0.0 in labels with no true samples. Use `zero_division` parameter to control this behavior.\n",
            "  _warn_prf(average, modifier, msg_start, len(result))\n",
            "/home/esneider/.local/lib/python3.8/site-packages/sklearn/metrics/_classification.py:1334: UndefinedMetricWarning: Precision and F-score are ill-defined and being set to 0.0 in labels with no predicted samples. Use `zero_division` parameter to control this behavior.\n",
            "  _warn_prf(average, modifier, msg_start, len(result))\n",
            "/home/esneider/.local/lib/python3.8/site-packages/sklearn/metrics/_classification.py:1334: UndefinedMetricWarning: Recall and F-score are ill-defined and being set to 0.0 in labels with no true samples. Use `zero_division` parameter to control this behavior.\n",
            "  _warn_prf(average, modifier, msg_start, len(result))\n"
          ]
        }
      ],
      "source": [
        "print(classification_report(y_test, y_pred))"
      ]
    },
    {
      "cell_type": "code",
      "execution_count": 21,
      "metadata": {
        "id": "YuOlroXRrwLd"
      },
      "outputs": [],
      "source": [
        "# TRAIN MODEL WITH ALL DATA FOR PRODUCTION\n",
        "tfidf_vect = TfidfVectorizer()\n",
        "tfidf_vect.fit(x)\n",
        "x_tfidf = tfidf_vect.transform(x)\n",
        "\n",
        "pdn_lr_model = LogisticRegression(C=best_c).fit(x_tfidf, y)"
      ]
    },
    {
      "cell_type": "code",
      "execution_count": 22,
      "metadata": {
        "colab": {
          "base_uri": "https://localhost:8080/"
        },
        "id": "DBMm0NbEiUsL",
        "outputId": "d4663cbb-b689-453b-b3e1-09704e91af00"
      },
      "outputs": [
        {
          "data": {
            "text/html": [
              "<style>#sk-container-id-2 {color: black;background-color: white;}#sk-container-id-2 pre{padding: 0;}#sk-container-id-2 div.sk-toggleable {background-color: white;}#sk-container-id-2 label.sk-toggleable__label {cursor: pointer;display: block;width: 100%;margin-bottom: 0;padding: 0.3em;box-sizing: border-box;text-align: center;}#sk-container-id-2 label.sk-toggleable__label-arrow:before {content: \"▸\";float: left;margin-right: 0.25em;color: #696969;}#sk-container-id-2 label.sk-toggleable__label-arrow:hover:before {color: black;}#sk-container-id-2 div.sk-estimator:hover label.sk-toggleable__label-arrow:before {color: black;}#sk-container-id-2 div.sk-toggleable__content {max-height: 0;max-width: 0;overflow: hidden;text-align: left;background-color: #f0f8ff;}#sk-container-id-2 div.sk-toggleable__content pre {margin: 0.2em;color: black;border-radius: 0.25em;background-color: #f0f8ff;}#sk-container-id-2 input.sk-toggleable__control:checked~div.sk-toggleable__content {max-height: 200px;max-width: 100%;overflow: auto;}#sk-container-id-2 input.sk-toggleable__control:checked~label.sk-toggleable__label-arrow:before {content: \"▾\";}#sk-container-id-2 div.sk-estimator input.sk-toggleable__control:checked~label.sk-toggleable__label {background-color: #d4ebff;}#sk-container-id-2 div.sk-label input.sk-toggleable__control:checked~label.sk-toggleable__label {background-color: #d4ebff;}#sk-container-id-2 input.sk-hidden--visually {border: 0;clip: rect(1px 1px 1px 1px);clip: rect(1px, 1px, 1px, 1px);height: 1px;margin: -1px;overflow: hidden;padding: 0;position: absolute;width: 1px;}#sk-container-id-2 div.sk-estimator {font-family: monospace;background-color: #f0f8ff;border: 1px dotted black;border-radius: 0.25em;box-sizing: border-box;margin-bottom: 0.5em;}#sk-container-id-2 div.sk-estimator:hover {background-color: #d4ebff;}#sk-container-id-2 div.sk-parallel-item::after {content: \"\";width: 100%;border-bottom: 1px solid gray;flex-grow: 1;}#sk-container-id-2 div.sk-label:hover label.sk-toggleable__label {background-color: #d4ebff;}#sk-container-id-2 div.sk-serial::before {content: \"\";position: absolute;border-left: 1px solid gray;box-sizing: border-box;top: 0;bottom: 0;left: 50%;z-index: 0;}#sk-container-id-2 div.sk-serial {display: flex;flex-direction: column;align-items: center;background-color: white;padding-right: 0.2em;padding-left: 0.2em;position: relative;}#sk-container-id-2 div.sk-item {position: relative;z-index: 1;}#sk-container-id-2 div.sk-parallel {display: flex;align-items: stretch;justify-content: center;background-color: white;position: relative;}#sk-container-id-2 div.sk-item::before, #sk-container-id-2 div.sk-parallel-item::before {content: \"\";position: absolute;border-left: 1px solid gray;box-sizing: border-box;top: 0;bottom: 0;left: 50%;z-index: -1;}#sk-container-id-2 div.sk-parallel-item {display: flex;flex-direction: column;z-index: 1;position: relative;background-color: white;}#sk-container-id-2 div.sk-parallel-item:first-child::after {align-self: flex-end;width: 50%;}#sk-container-id-2 div.sk-parallel-item:last-child::after {align-self: flex-start;width: 50%;}#sk-container-id-2 div.sk-parallel-item:only-child::after {width: 0;}#sk-container-id-2 div.sk-dashed-wrapped {border: 1px dashed gray;margin: 0 0.4em 0.5em 0.4em;box-sizing: border-box;padding-bottom: 0.4em;background-color: white;}#sk-container-id-2 div.sk-label label {font-family: monospace;font-weight: bold;display: inline-block;line-height: 1.2em;}#sk-container-id-2 div.sk-label-container {text-align: center;}#sk-container-id-2 div.sk-container {/* jupyter's `normalize.less` sets `[hidden] { display: none; }` but bootstrap.min.css set `[hidden] { display: none !important; }` so we also need the `!important` here to be able to override the default hidden behavior on the sphinx rendered scikit-learn.org. See: https://github.com/scikit-learn/scikit-learn/issues/21755 */display: inline-block !important;position: relative;}#sk-container-id-2 div.sk-text-repr-fallback {display: none;}</style><div id=\"sk-container-id-2\" class=\"sk-top-container\"><div class=\"sk-text-repr-fallback\"><pre>LogisticRegression(C=10)</pre><b>In a Jupyter environment, please rerun this cell to show the HTML representation or trust the notebook. <br />On GitHub, the HTML representation is unable to render, please try loading this page with nbviewer.org.</b></div><div class=\"sk-container\" hidden><div class=\"sk-item\"><div class=\"sk-estimator sk-toggleable\"><input class=\"sk-toggleable__control sk-hidden--visually\" id=\"sk-estimator-id-4\" type=\"checkbox\" checked><label for=\"sk-estimator-id-4\" class=\"sk-toggleable__label sk-toggleable__label-arrow\">LogisticRegression</label><div class=\"sk-toggleable__content\"><pre>LogisticRegression(C=10)</pre></div></div></div></div></div>"
            ],
            "text/plain": [
              "LogisticRegression(C=10)"
            ]
          },
          "execution_count": 22,
          "metadata": {},
          "output_type": "execute_result"
        }
      ],
      "source": [
        "pdn_lr_model"
      ]
    },
    {
      "cell_type": "code",
      "execution_count": 23,
      "metadata": {
        "id": "5-7JzLdkqre9"
      },
      "outputs": [],
      "source": [
        "# \"SAVE FINAL MODEL\"\n",
        "pickle.dump(pdn_lr_model, open('model_chatbot.pkl', 'wb'))\n",
        "pickle.dump(tfidf_vect, open('chatbot_vocabulary.pkl', 'wb'))\n",
        "pickle.dump(intent_names, open('response_chatbot.pkl', 'wb'))"
      ]
    }
  ],
  "metadata": {
    "colab": {
      "collapsed_sections": [],
      "provenance": []
    },
    "kernelspec": {
      "display_name": "Python 3.8.10 64-bit",
      "language": "python",
      "name": "python3"
    },
    "language_info": {
      "codemirror_mode": {
        "name": "ipython",
        "version": 3
      },
      "file_extension": ".py",
      "mimetype": "text/x-python",
      "name": "python",
      "nbconvert_exporter": "python",
      "pygments_lexer": "ipython3",
      "version": "3.8.10"
    },
    "vscode": {
      "interpreter": {
        "hash": "916dbcbb3f70747c44a77c7bcd40155683ae19c65e1c03b4aa3499c5328201f1"
      }
    }
  },
  "nbformat": 4,
  "nbformat_minor": 0
}
