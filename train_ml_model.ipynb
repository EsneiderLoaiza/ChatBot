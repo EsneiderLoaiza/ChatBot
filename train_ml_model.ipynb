{
  "cells": [
    {
      "cell_type": "code",
      "execution_count": null,
      "metadata": {
        "id": "bmiaaE2OH0n9"
      },
      "outputs": [],
      "source": [
        "import pickle\n",
        "import pandas as pd\n",
        "from sklearn import preprocessing\n",
        "from sklearn.model_selection import GridSearchCV\n",
        "from sklearn.linear_model import LogisticRegression\n",
        "from sklearn.feature_extraction.text import TfidfVectorizer"
      ]
    },
    {
      "cell_type": "code",
      "execution_count": 47,
      "metadata": {
        "colab": {
          "base_uri": "https://localhost:8080/",
          "height": 676
        },
        "id": "2xfLjPQdIlFZ",
        "outputId": "5d4d629a-970e-48a0-cdd0-7b300bff16a4"
      },
      "outputs": [
        {
          "data": {
            "text/html": [
              "\n",
              "  <div id=\"df-c2e08439-493b-4676-ad99-ed85a2226ef0\">\n",
              "    <div class=\"colab-df-container\">\n",
              "      <div>\n",
              "<style scoped>\n",
              "    .dataframe tbody tr th:only-of-type {\n",
              "        vertical-align: middle;\n",
              "    }\n",
              "\n",
              "    .dataframe tbody tr th {\n",
              "        vertical-align: top;\n",
              "    }\n",
              "\n",
              "    .dataframe thead th {\n",
              "        text-align: right;\n",
              "    }\n",
              "</style>\n",
              "<table border=\"1\" class=\"dataframe\">\n",
              "  <thead>\n",
              "    <tr style=\"text-align: right;\">\n",
              "      <th></th>\n",
              "      <th>Intent</th>\n",
              "      <th>Utterance</th>\n",
              "    </tr>\n",
              "  </thead>\n",
              "  <tbody>\n",
              "    <tr>\n",
              "      <th>0</th>\n",
              "      <td>saludos</td>\n",
              "      <td>Hooooooola!!</td>\n",
              "    </tr>\n",
              "    <tr>\n",
              "      <th>1</th>\n",
              "      <td>saludos</td>\n",
              "      <td>#$% holi!!</td>\n",
              "    </tr>\n",
              "    <tr>\n",
              "      <th>2</th>\n",
              "      <td>saludos</td>\n",
              "      <td>alo, hi</td>\n",
              "    </tr>\n",
              "    <tr>\n",
              "      <th>3</th>\n",
              "      <td>saludos</td>\n",
              "      <td>aloha, buenos días!!</td>\n",
              "    </tr>\n",
              "    <tr>\n",
              "      <th>4</th>\n",
              "      <td>saludos</td>\n",
              "      <td>AMIGA!!!!</td>\n",
              "    </tr>\n",
              "    <tr>\n",
              "      <th>5</th>\n",
              "      <td>saludos</td>\n",
              "      <td>amiiigaaa</td>\n",
              "    </tr>\n",
              "    <tr>\n",
              "      <th>6</th>\n",
              "      <td>saludos</td>\n",
              "      <td>baby!!</td>\n",
              "    </tr>\n",
              "    <tr>\n",
              "      <th>7</th>\n",
              "      <td>saludos</td>\n",
              "      <td>bebe</td>\n",
              "    </tr>\n",
              "    <tr>\n",
              "      <th>8</th>\n",
              "      <td>saludos</td>\n",
              "      <td>BelleZa</td>\n",
              "    </tr>\n",
              "    <tr>\n",
              "      <th>9</th>\n",
              "      <td>saludos</td>\n",
              "      <td>Bom Dia</td>\n",
              "    </tr>\n",
              "    <tr>\n",
              "      <th>10</th>\n",
              "      <td>saludos</td>\n",
              "      <td>bonita</td>\n",
              "    </tr>\n",
              "    <tr>\n",
              "      <th>11</th>\n",
              "      <td>saludos</td>\n",
              "      <td>bUeN Dia</td>\n",
              "    </tr>\n",
              "    <tr>\n",
              "      <th>12</th>\n",
              "      <td>saludos</td>\n",
              "      <td>buen día sofy</td>\n",
              "    </tr>\n",
              "    <tr>\n",
              "      <th>13</th>\n",
              "      <td>saludos</td>\n",
              "      <td>buenas noches!!</td>\n",
              "    </tr>\n",
              "    <tr>\n",
              "      <th>14</th>\n",
              "      <td>saludos</td>\n",
              "      <td>buenas noches bonita</td>\n",
              "    </tr>\n",
              "    <tr>\n",
              "      <th>15</th>\n",
              "      <td>saludos</td>\n",
              "      <td>buenas tardes</td>\n",
              "    </tr>\n",
              "    <tr>\n",
              "      <th>16</th>\n",
              "      <td>saludos</td>\n",
              "      <td>buenas tardes bonita</td>\n",
              "    </tr>\n",
              "    <tr>\n",
              "      <th>17</th>\n",
              "      <td>saludos</td>\n",
              "      <td>buenos dias</td>\n",
              "    </tr>\n",
              "    <tr>\n",
              "      <th>18</th>\n",
              "      <td>saludos</td>\n",
              "      <td>como estas</td>\n",
              "    </tr>\n",
              "    <tr>\n",
              "      <th>19</th>\n",
              "      <td>saludos</td>\n",
              "      <td>como has estado</td>\n",
              "    </tr>\n",
              "  </tbody>\n",
              "</table>\n",
              "</div>\n",
              "      <button class=\"colab-df-convert\" onclick=\"convertToInteractive('df-c2e08439-493b-4676-ad99-ed85a2226ef0')\"\n",
              "              title=\"Convert this dataframe to an interactive table.\"\n",
              "              style=\"display:none;\">\n",
              "        \n",
              "  <svg xmlns=\"http://www.w3.org/2000/svg\" height=\"24px\"viewBox=\"0 0 24 24\"\n",
              "       width=\"24px\">\n",
              "    <path d=\"M0 0h24v24H0V0z\" fill=\"none\"/>\n",
              "    <path d=\"M18.56 5.44l.94 2.06.94-2.06 2.06-.94-2.06-.94-.94-2.06-.94 2.06-2.06.94zm-11 1L8.5 8.5l.94-2.06 2.06-.94-2.06-.94L8.5 2.5l-.94 2.06-2.06.94zm10 10l.94 2.06.94-2.06 2.06-.94-2.06-.94-.94-2.06-.94 2.06-2.06.94z\"/><path d=\"M17.41 7.96l-1.37-1.37c-.4-.4-.92-.59-1.43-.59-.52 0-1.04.2-1.43.59L10.3 9.45l-7.72 7.72c-.78.78-.78 2.05 0 2.83L4 21.41c.39.39.9.59 1.41.59.51 0 1.02-.2 1.41-.59l7.78-7.78 2.81-2.81c.8-.78.8-2.07 0-2.86zM5.41 20L4 18.59l7.72-7.72 1.47 1.35L5.41 20z\"/>\n",
              "  </svg>\n",
              "      </button>\n",
              "      \n",
              "  <style>\n",
              "    .colab-df-container {\n",
              "      display:flex;\n",
              "      flex-wrap:wrap;\n",
              "      gap: 12px;\n",
              "    }\n",
              "\n",
              "    .colab-df-convert {\n",
              "      background-color: #E8F0FE;\n",
              "      border: none;\n",
              "      border-radius: 50%;\n",
              "      cursor: pointer;\n",
              "      display: none;\n",
              "      fill: #1967D2;\n",
              "      height: 32px;\n",
              "      padding: 0 0 0 0;\n",
              "      width: 32px;\n",
              "    }\n",
              "\n",
              "    .colab-df-convert:hover {\n",
              "      background-color: #E2EBFA;\n",
              "      box-shadow: 0px 1px 2px rgba(60, 64, 67, 0.3), 0px 1px 3px 1px rgba(60, 64, 67, 0.15);\n",
              "      fill: #174EA6;\n",
              "    }\n",
              "\n",
              "    [theme=dark] .colab-df-convert {\n",
              "      background-color: #3B4455;\n",
              "      fill: #D2E3FC;\n",
              "    }\n",
              "\n",
              "    [theme=dark] .colab-df-convert:hover {\n",
              "      background-color: #434B5C;\n",
              "      box-shadow: 0px 1px 3px 1px rgba(0, 0, 0, 0.15);\n",
              "      filter: drop-shadow(0px 1px 2px rgba(0, 0, 0, 0.3));\n",
              "      fill: #FFFFFF;\n",
              "    }\n",
              "  </style>\n",
              "\n",
              "      <script>\n",
              "        const buttonEl =\n",
              "          document.querySelector('#df-c2e08439-493b-4676-ad99-ed85a2226ef0 button.colab-df-convert');\n",
              "        buttonEl.style.display =\n",
              "          google.colab.kernel.accessAllowed ? 'block' : 'none';\n",
              "\n",
              "        async function convertToInteractive(key) {\n",
              "          const element = document.querySelector('#df-c2e08439-493b-4676-ad99-ed85a2226ef0');\n",
              "          const dataTable =\n",
              "            await google.colab.kernel.invokeFunction('convertToInteractive',\n",
              "                                                     [key], {});\n",
              "          if (!dataTable) return;\n",
              "\n",
              "          const docLinkHtml = 'Like what you see? Visit the ' +\n",
              "            '<a target=\"_blank\" href=https://colab.research.google.com/notebooks/data_table.ipynb>data table notebook</a>'\n",
              "            + ' to learn more about interactive tables.';\n",
              "          element.innerHTML = '';\n",
              "          dataTable['output_type'] = 'display_data';\n",
              "          await google.colab.output.renderOutput(dataTable, element);\n",
              "          const docLink = document.createElement('div');\n",
              "          docLink.innerHTML = docLinkHtml;\n",
              "          element.appendChild(docLink);\n",
              "        }\n",
              "      </script>\n",
              "    </div>\n",
              "  </div>\n",
              "  "
            ],
            "text/plain": [
              "     Intent             Utterance\n",
              "0   saludos          Hooooooola!!\n",
              "1   saludos            #$% holi!!\n",
              "2   saludos               alo, hi\n",
              "3   saludos  aloha, buenos días!!\n",
              "4   saludos             AMIGA!!!!\n",
              "5   saludos             amiiigaaa\n",
              "6   saludos                baby!!\n",
              "7   saludos                  bebe\n",
              "8   saludos               BelleZa\n",
              "9   saludos               Bom Dia\n",
              "10  saludos                bonita\n",
              "11  saludos              bUeN Dia\n",
              "12  saludos         buen día sofy\n",
              "13  saludos       buenas noches!!\n",
              "14  saludos  buenas noches bonita\n",
              "15  saludos         buenas tardes\n",
              "16  saludos  buenas tardes bonita\n",
              "17  saludos           buenos dias\n",
              "18  saludos            como estas\n",
              "19  saludos       como has estado"
            ]
          },
          "execution_count": 47,
          "metadata": {},
          "output_type": "execute_result"
        }
      ],
      "source": [
        "# \" LOAD DATA BASE\"\n",
        "dataset = 'KnowledgeBase.xlsx'\n",
        "knowledge_base = pd.read_excel(dataset)\n",
        "knowledge_base.sample(n=20).head(20)"
      ]
    },
    {
      "cell_type": "code",
      "execution_count": 46,
      "metadata": {
        "colab": {
          "base_uri": "https://localhost:8080/"
        },
        "id": "zaTxvPBjJ1en",
        "outputId": "391ffaad-8f2c-4d93-f952-aa4ef66dd1c9"
      },
      "outputs": [
        {
          "data": {
            "text/plain": [
              "array(['saludos', 'cancelar', 'preguntar', 'None'], dtype=object)"
            ]
          },
          "execution_count": 46,
          "metadata": {},
          "output_type": "execute_result"
        }
      ],
      "source": [
        "knowledge_base[\"Intent\"].unique()"
      ]
    },
    {
      "cell_type": "code",
      "execution_count": 48,
      "metadata": {
        "colab": {
          "base_uri": "https://localhost:8080/"
        },
        "id": "0qU1WevtJSKw",
        "outputId": "05dc3916-c3d1-460b-9a5c-5ebdd2cd2dd3"
      },
      "outputs": [
        {
          "data": {
            "text/plain": [
              "423"
            ]
          },
          "execution_count": 48,
          "metadata": {},
          "output_type": "execute_result"
        }
      ],
      "source": [
        "len(knowledge_base)"
      ]
    },
    {
      "cell_type": "code",
      "execution_count": 49,
      "metadata": {
        "colab": {
          "base_uri": "https://localhost:8080/"
        },
        "id": "mmsH-Rj7KGJ_",
        "outputId": "59debe01-830d-4953-eb0a-4bad4539f9ef"
      },
      "outputs": [
        {
          "data": {
            "text/plain": [
              "array([3, 3, 3, 3, 3, 3, 3, 3, 3, 3, 3, 3, 3, 3, 3, 3, 3, 3, 3, 3, 3, 3,\n",
              "       3, 3, 3, 3, 3, 3, 3, 3, 3, 3, 3, 3, 3, 3, 3, 3, 3, 3, 3, 3, 3, 3,\n",
              "       3, 3, 3, 3, 3, 3, 3, 3, 3, 3, 3, 3, 3, 3, 3, 3, 3, 3, 3, 3, 3, 3,\n",
              "       3, 3, 3, 3, 3, 3, 3, 3, 3, 3, 3, 3, 3, 3, 3, 3, 3, 3, 3, 3, 3, 3,\n",
              "       3, 3, 3, 3, 3, 3, 3, 3, 3, 3, 3, 3, 3, 1, 1, 1, 1, 1, 1, 1, 1, 1,\n",
              "       1, 1, 1, 1, 1, 1, 1, 1, 1, 1, 1, 1, 1, 1, 1, 1, 1, 1, 1, 1, 1, 1,\n",
              "       1, 1, 1, 1, 1, 1, 1, 1, 1, 1, 1, 1, 1, 1, 1, 1, 1, 1, 1, 1, 1, 1,\n",
              "       1, 1, 1, 1, 1, 1, 1, 1, 1, 1, 1, 1, 1, 1, 1, 1, 1, 1, 1, 1, 1, 1,\n",
              "       1, 1, 1, 1, 1, 1, 1, 2, 2, 2, 2, 2, 2, 2, 2, 2, 2, 2, 2, 2, 2, 2,\n",
              "       2, 2, 2, 2, 2, 2, 2, 2, 2, 2, 2, 2, 2, 2, 2, 2, 2, 2, 2, 2, 2, 2,\n",
              "       2, 2, 2, 2, 2, 2, 2, 2, 2, 2, 2, 2, 2, 2, 2, 2, 2, 2, 2, 2, 2, 2,\n",
              "       2, 2, 2, 2, 2, 2, 0, 0, 0, 0, 0, 0, 0, 0, 0, 0, 0, 0, 0, 0, 0, 0,\n",
              "       0, 0, 0, 0, 0, 0, 0, 0, 0, 0, 0, 0, 0, 0, 0, 0, 0, 0, 0, 0, 0, 0,\n",
              "       0, 0, 0, 0, 0, 0, 0, 0, 0, 0, 0, 0, 0, 0, 1, 1, 1, 1, 1, 1, 1, 1,\n",
              "       1, 1, 1, 1, 1, 1, 1, 1, 1, 1, 1, 1, 2, 2, 2, 2, 2, 2, 2, 2, 2, 2,\n",
              "       2, 2, 2, 3, 3, 3, 3, 3, 3, 3, 3, 3, 3, 3, 3, 3, 3, 3, 3, 3, 3, 3,\n",
              "       3, 3, 3, 3, 3, 3, 3, 3, 3, 3, 3, 3, 3, 3, 3, 3, 3, 3, 3, 3, 3, 0,\n",
              "       0, 0, 0, 0, 0, 0, 0, 0, 0, 0, 0, 0, 0, 0, 0, 0, 0, 0, 0, 0, 0, 0,\n",
              "       0, 0, 0, 1, 2, 2, 3, 3, 0, 0, 0, 0, 0, 0, 0, 0, 0, 0, 0, 0, 0, 0,\n",
              "       0, 2, 2, 2, 2])"
            ]
          },
          "execution_count": 49,
          "metadata": {},
          "output_type": "execute_result"
        }
      ],
      "source": [
        "# label encode the target variable to transform non-numerical labels\n",
        "encoder = preprocessing.LabelEncoder()\n",
        "y = encoder.fit_transform(knowledge_base[\"Intent\"])  # numerical labels\n",
        "y"
      ]
    },
    {
      "cell_type": "code",
      "execution_count": 50,
      "metadata": {
        "colab": {
          "base_uri": "https://localhost:8080/"
        },
        "id": "iWN5nN_hKTsO",
        "outputId": "696ec0cc-e23f-4326-b1f9-55527bea207f"
      },
      "outputs": [
        {
          "data": {
            "text/plain": [
              "array(['None', 'cancelar', 'preguntar', 'saludos'], dtype=object)"
            ]
          },
          "execution_count": 50,
          "metadata": {},
          "output_type": "execute_result"
        }
      ],
      "source": [
        "intent_names = encoder.classes_\n",
        "intent_names"
      ]
    },
    {
      "cell_type": "code",
      "execution_count": 51,
      "metadata": {
        "colab": {
          "base_uri": "https://localhost:8080/"
        },
        "id": "ru88UFjVMG2u",
        "outputId": "af304648-d7c0-417f-849f-5c3ff4cde5e8"
      },
      "outputs": [
        {
          "data": {
            "text/plain": [
              "0                                 Hooooooola!!\n",
              "1                                   #$% holi!!\n",
              "2                                      alo, hi\n",
              "3                         aloha, buenos días!!\n",
              "4                                    AMIGA!!!!\n",
              "                        ...                   \n",
              "418       sofy como retiro mis aportes de sva \n",
              "419          gracias sofy, tengo otra pregunta\n",
              "420                        sofy, otra pregunta\n",
              "421                     sofy, otra pregunta...\n",
              "422    en que información me puedes colaborar?\n",
              "Name: Utterance, Length: 423, dtype: object"
            ]
          },
          "execution_count": 51,
          "metadata": {},
          "output_type": "execute_result"
        }
      ],
      "source": [
        "x = knowledge_base[\"Utterance\"]\n",
        "x"
      ]
    },
    {
      "cell_type": "code",
      "execution_count": null,
      "metadata": {
        "id": "KjZmehuLcOYw"
      },
      "outputs": [],
      "source": [
        "from sklearn.model_selection import train_test_split\n",
        "# Hold-out Partition\n",
        "X_train, X_test, y_train, y_test = train_test_split(x, y,\n",
        "                                                    random_state=0)\n",
        "\n",
        "# PROCESAMIENTO\n",
        "\n",
        "## ...."
      ]
    },
    {
      "cell_type": "code",
      "execution_count": 52,
      "metadata": {
        "colab": {
          "base_uri": "https://localhost:8080/"
        },
        "id": "zye2w8hOKeLY",
        "outputId": "c8230aef-d1e7-431f-841c-d1675119b870"
      },
      "outputs": [
        {
          "data": {
            "text/plain": [
              "<317x331 sparse matrix of type '<class 'numpy.float64'>'\n",
              "\twith 939 stored elements in Compressed Sparse Row format>"
            ]
          },
          "execution_count": 52,
          "metadata": {},
          "output_type": "execute_result"
        }
      ],
      "source": [
        "\" TF-IDF score represents the relative importance of a term in the document and the entire corpus. \"\n",
        "tfidf_vect = TfidfVectorizer()\n",
        "tfidf_vect.fit(X_train)\n",
        "x_train_tfidf = tfidf_vect.transform(X_train)\n",
        "x_train_tfidf"
      ]
    },
    {
      "cell_type": "code",
      "execution_count": 53,
      "metadata": {
        "colab": {
          "base_uri": "https://localhost:8080/"
        },
        "id": "Cb-8UAayVA4F",
        "outputId": "7b2b7023-aebd-47f1-cb1f-d0a59f087869"
      },
      "outputs": [
        {
          "data": {
            "text/plain": [
              "array(['abrir', 'acerca', 'acertada', 'aclarar', 'acudo', 'adios', 'ah',\n",
              "       'aja', 'algo', 'alo', 'aloha', 'amable', 'amaneces', 'amiga',\n",
              "       'amo', 'amor', 'antes', 'aportes', 'aprendido', 'archivo',\n",
              "       'archivos', 'asesorar', 'asesorarme', 'asesores', 'asesoria',\n",
              "       'asesoría', 'así', 'ayudame', 'ayudar', 'ayudas', 'ayudaste',\n",
              "       'ayúdame', 'años', 'baby', 'bailar', 'bebé', 'belleza', 'bem',\n",
              "       'bien', 'bom', 'bonita', 'buen', 'buena', 'buenas', 'bueno',\n",
              "       'buenos', 'by', 'bye', 'byte', 'cae', 'cancela', 'cancelar',\n",
              "       'capacidad', 'capito', 'casa', 'celular', 'chai', 'chaito', 'chao',\n",
              "       'chaolin', 'chatbot', 'chau', 'cielo', 'comer', 'como',\n",
              "       'compartir', 'con', 'confiable', 'consulta', 'consultar',\n",
              "       'contenta', 'contestas', 'contigo', 'contingencia', 'control',\n",
              "       'conversación', 'cosita', 'creó', 'cual', 'cucha', 'cuenta',\n",
              "       'cuál', 'cuándo', 'cuánto', 'cuántos', 'cómo', 'dale', 'de',\n",
              "       'debo', 'deje', 'dejo', 'desde', 'deseo', 'dia', 'dias',\n",
              "       'dificultad', 'disponible', 'duda', 'día', 'días', 'dónde', 'el',\n",
              "       'en', 'encanto', 'encuentro', 'entendido', 'entendí', 'entrena',\n",
              "       'equipo', 'eres', 'es', 'eso', 'especifico', 'específico', 'esta',\n",
              "       'estado', 'estas', 'este', 'esto', 'estás', 'favor', 'feliz',\n",
              "       'funcionas', 'gracias', 'ha', 'hablamos', 'hablar', 'hablas',\n",
              "       'hace', 'hacer', 'haces', 'hago', 'hamburguesa', 'has', 'hasta',\n",
              "       'hello', 'hellou', 'helo', 'help', 'hermosa', 'hey', 'hi', 'hola',\n",
              "       'holaaa', 'holaaaa', 'holaaaaaaaaaaaa', 'hooooooola', 'horario',\n",
              "       'hoy', 'hubo', 'idiomas', 'ido', 'igual', 'igualmente',\n",
              "       'impresionado', 'info', 'informacion', 'información', 'innovación',\n",
              "       'inquietud', 'inquietudes', 'inteligente', 'ir', 'irme', 'jefe',\n",
              "       'jelou', 'la', 'linda', 'lindo', 'listo', 'llamada', 'llamar',\n",
              "       'lo', 'luego', 'mas', 'mañana', 'me', 'mi', 'miguis', 'mis',\n",
              "       'mismo', 'molesto', 'mostro', 'muchas', 'mucho', 'muy', 'más',\n",
              "       'máxima', 'nada', 'necesito', 'need', 'nena', 'niña', 'no',\n",
              "       'noches', 'nos', 'oe', 'ok', 'oka', 'okay', 'ola', 'oli', 'otra',\n",
              "       'otras', 'pa', 'pagan', 'para', 'pasa', 'pasar', 'pelicula',\n",
              "       'pensar', 'perfecto', 'perteneces', 'peticion', 'podría',\n",
              "       'podrías', 'por', 'porfavor', 'portal', 'pregunta', 'preguntar',\n",
              "       'preguntarte', 'preguntas', 'preguntica', 'proceso', 'procesos',\n",
              "       'pronto', 'proteges', 'puede', 'puedes', 'puedo', 'pues', 'que',\n",
              "       'querida', 'quiai', 'quieres', 'quiero', 'quisiera', 'quisieras',\n",
              "       'quitar', 'quién', 'qué', 'radicación', 'realizar', 'realmente',\n",
              "       'reemplazar', 'regrese', 'regresé', 'remoto', 'resolver',\n",
              "       'responder', 'respuesta', 'retiro', 'robótica', 'saber', 'sabes',\n",
              "       'sales', 'salir', 'salirme', 'sallir', 'saludarte', 'se', 'seguir',\n",
              "       'seguridad', 'señorita', 'si', 'siclas', 'sientes', 'sip', 'sirve',\n",
              "       'sirvió', 'sisas', 'skype', 'sobre', 'soffu', 'sofi', 'sofia',\n",
              "       'sofy', 'solicitud', 'solucionar', 'sorpréndeme', 'suerte', 'sva',\n",
              "       'sácame', 'tabot', 'tal', 'tan', 'tanto', 'tardes', 'te',\n",
              "       'tecnológica', 'tema', 'temas', 'ten', 'tener', 'tengas', 'tengo',\n",
              "       'ti', 'tienes', 'todavía', 'todo', 'tomar', 'trabajabas',\n",
              "       'trabajo', 'triste', 'tu', 'tú', 'un', 'una', 'usted', 'va',\n",
              "       'vacaciones', 'vai', 'vais', 'validar', 'valiosa', 'vamos',\n",
              "       'varios', 'vas', 'vemos', 'ver', 'verdad', 'vestir', 'video',\n",
              "       'vives', 'voy', 'ví', 'wave', 'ya', 'you', 'área'], dtype=object)"
            ]
          },
          "execution_count": 53,
          "metadata": {},
          "output_type": "execute_result"
        }
      ],
      "source": [
        "tfidf_vect.get_feature_names_out()"
      ]
    },
    {
      "cell_type": "code",
      "execution_count": 54,
      "metadata": {
        "colab": {
          "base_uri": "https://localhost:8080/"
        },
        "id": "lDnAhHtbNI3l",
        "outputId": "ddaa1c01-ff6b-41d5-e6f0-eb421fb7550f"
      },
      "outputs": [
        {
          "data": {
            "text/plain": [
              "GridSearchCV(cv=10, estimator=LogisticRegression(),\n",
              "             param_grid={'C': [0.001, 0.1, 0.1, 10, 100, 1000]},\n",
              "             scoring='accuracy')"
            ]
          },
          "execution_count": 54,
          "metadata": {},
          "output_type": "execute_result"
        }
      ],
      "source": [
        "\" MODEL TRAINING AND DEVELOPMENT\"\n",
        "nfolds = 10\n",
        "tuned_parameters = {'C': [0.001, 0.10, 0.1, 10, 100, 1000]}\n",
        "lr_model = GridSearchCV(LogisticRegression(), tuned_parameters, cv=nfolds,  scoring='accuracy') \n",
        "lr_model.fit(x_train_tfidf, y_train)"
      ]
    },
    {
      "cell_type": "code",
      "execution_count": 55,
      "metadata": {
        "colab": {
          "base_uri": "https://localhost:8080/",
          "height": 237
        },
        "id": "9smMZTOLn3dw",
        "outputId": "55408a07-9f09-417f-ddf8-dea8d62aada9"
      },
      "outputs": [
        {
          "data": {
            "text/html": [
              "\n",
              "  <div id=\"df-1c54f4b4-8ffa-431a-b7cc-2f76c5dfdc3b\">\n",
              "    <div class=\"colab-df-container\">\n",
              "      <div>\n",
              "<style scoped>\n",
              "    .dataframe tbody tr th:only-of-type {\n",
              "        vertical-align: middle;\n",
              "    }\n",
              "\n",
              "    .dataframe tbody tr th {\n",
              "        vertical-align: top;\n",
              "    }\n",
              "\n",
              "    .dataframe thead th {\n",
              "        text-align: right;\n",
              "    }\n",
              "</style>\n",
              "<table border=\"1\" class=\"dataframe\">\n",
              "  <thead>\n",
              "    <tr style=\"text-align: right;\">\n",
              "      <th></th>\n",
              "      <th>C</th>\n",
              "      <th>Mean</th>\n",
              "      <th>STD</th>\n",
              "    </tr>\n",
              "  </thead>\n",
              "  <tbody>\n",
              "    <tr>\n",
              "      <th>0</th>\n",
              "      <td>0.001</td>\n",
              "      <td>0.331149</td>\n",
              "      <td>0.013076</td>\n",
              "    </tr>\n",
              "    <tr>\n",
              "      <th>1</th>\n",
              "      <td>0.100</td>\n",
              "      <td>0.425403</td>\n",
              "      <td>0.061892</td>\n",
              "    </tr>\n",
              "    <tr>\n",
              "      <th>2</th>\n",
              "      <td>0.100</td>\n",
              "      <td>0.425403</td>\n",
              "      <td>0.061892</td>\n",
              "    </tr>\n",
              "    <tr>\n",
              "      <th>3</th>\n",
              "      <td>10.000</td>\n",
              "      <td>0.855242</td>\n",
              "      <td>0.054048</td>\n",
              "    </tr>\n",
              "    <tr>\n",
              "      <th>4</th>\n",
              "      <td>100.000</td>\n",
              "      <td>0.852117</td>\n",
              "      <td>0.067077</td>\n",
              "    </tr>\n",
              "    <tr>\n",
              "      <th>5</th>\n",
              "      <td>1000.000</td>\n",
              "      <td>0.845665</td>\n",
              "      <td>0.058594</td>\n",
              "    </tr>\n",
              "  </tbody>\n",
              "</table>\n",
              "</div>\n",
              "      <button class=\"colab-df-convert\" onclick=\"convertToInteractive('df-1c54f4b4-8ffa-431a-b7cc-2f76c5dfdc3b')\"\n",
              "              title=\"Convert this dataframe to an interactive table.\"\n",
              "              style=\"display:none;\">\n",
              "        \n",
              "  <svg xmlns=\"http://www.w3.org/2000/svg\" height=\"24px\"viewBox=\"0 0 24 24\"\n",
              "       width=\"24px\">\n",
              "    <path d=\"M0 0h24v24H0V0z\" fill=\"none\"/>\n",
              "    <path d=\"M18.56 5.44l.94 2.06.94-2.06 2.06-.94-2.06-.94-.94-2.06-.94 2.06-2.06.94zm-11 1L8.5 8.5l.94-2.06 2.06-.94-2.06-.94L8.5 2.5l-.94 2.06-2.06.94zm10 10l.94 2.06.94-2.06 2.06-.94-2.06-.94-.94-2.06-.94 2.06-2.06.94z\"/><path d=\"M17.41 7.96l-1.37-1.37c-.4-.4-.92-.59-1.43-.59-.52 0-1.04.2-1.43.59L10.3 9.45l-7.72 7.72c-.78.78-.78 2.05 0 2.83L4 21.41c.39.39.9.59 1.41.59.51 0 1.02-.2 1.41-.59l7.78-7.78 2.81-2.81c.8-.78.8-2.07 0-2.86zM5.41 20L4 18.59l7.72-7.72 1.47 1.35L5.41 20z\"/>\n",
              "  </svg>\n",
              "      </button>\n",
              "      \n",
              "  <style>\n",
              "    .colab-df-container {\n",
              "      display:flex;\n",
              "      flex-wrap:wrap;\n",
              "      gap: 12px;\n",
              "    }\n",
              "\n",
              "    .colab-df-convert {\n",
              "      background-color: #E8F0FE;\n",
              "      border: none;\n",
              "      border-radius: 50%;\n",
              "      cursor: pointer;\n",
              "      display: none;\n",
              "      fill: #1967D2;\n",
              "      height: 32px;\n",
              "      padding: 0 0 0 0;\n",
              "      width: 32px;\n",
              "    }\n",
              "\n",
              "    .colab-df-convert:hover {\n",
              "      background-color: #E2EBFA;\n",
              "      box-shadow: 0px 1px 2px rgba(60, 64, 67, 0.3), 0px 1px 3px 1px rgba(60, 64, 67, 0.15);\n",
              "      fill: #174EA6;\n",
              "    }\n",
              "\n",
              "    [theme=dark] .colab-df-convert {\n",
              "      background-color: #3B4455;\n",
              "      fill: #D2E3FC;\n",
              "    }\n",
              "\n",
              "    [theme=dark] .colab-df-convert:hover {\n",
              "      background-color: #434B5C;\n",
              "      box-shadow: 0px 1px 3px 1px rgba(0, 0, 0, 0.15);\n",
              "      filter: drop-shadow(0px 1px 2px rgba(0, 0, 0, 0.3));\n",
              "      fill: #FFFFFF;\n",
              "    }\n",
              "  </style>\n",
              "\n",
              "      <script>\n",
              "        const buttonEl =\n",
              "          document.querySelector('#df-1c54f4b4-8ffa-431a-b7cc-2f76c5dfdc3b button.colab-df-convert');\n",
              "        buttonEl.style.display =\n",
              "          google.colab.kernel.accessAllowed ? 'block' : 'none';\n",
              "\n",
              "        async function convertToInteractive(key) {\n",
              "          const element = document.querySelector('#df-1c54f4b4-8ffa-431a-b7cc-2f76c5dfdc3b');\n",
              "          const dataTable =\n",
              "            await google.colab.kernel.invokeFunction('convertToInteractive',\n",
              "                                                     [key], {});\n",
              "          if (!dataTable) return;\n",
              "\n",
              "          const docLinkHtml = 'Like what you see? Visit the ' +\n",
              "            '<a target=\"_blank\" href=https://colab.research.google.com/notebooks/data_table.ipynb>data table notebook</a>'\n",
              "            + ' to learn more about interactive tables.';\n",
              "          element.innerHTML = '';\n",
              "          dataTable['output_type'] = 'display_data';\n",
              "          await google.colab.output.renderOutput(dataTable, element);\n",
              "          const docLink = document.createElement('div');\n",
              "          docLink.innerHTML = docLinkHtml;\n",
              "          element.appendChild(docLink);\n",
              "        }\n",
              "      </script>\n",
              "    </div>\n",
              "  </div>\n",
              "  "
            ],
            "text/plain": [
              "          C      Mean       STD\n",
              "0     0.001  0.331149  0.013076\n",
              "1     0.100  0.425403  0.061892\n",
              "2     0.100  0.425403  0.061892\n",
              "3    10.000  0.855242  0.054048\n",
              "4   100.000  0.852117  0.067077\n",
              "5  1000.000  0.845665  0.058594"
            ]
          },
          "execution_count": 55,
          "metadata": {},
          "output_type": "execute_result"
        }
      ],
      "source": [
        "means = lr_model.cv_results_['mean_test_score']\n",
        "stds = lr_model.cv_results_['std_test_score']\n",
        "parameters = lr_model.cv_results_['params']\n",
        "results = pd.concat((pd.DataFrame.from_dict(parameters), pd.DataFrame(means, columns=['Mean']), pd.DataFrame(stds, columns=['STD'])), axis=1)\n",
        "results"
      ]
    },
    {
      "cell_type": "code",
      "execution_count": 56,
      "metadata": {
        "colab": {
          "base_uri": "https://localhost:8080/"
        },
        "id": "bgtWz7UVpCzu",
        "outputId": "41cf9890-a19f-412f-9c77-9c9006df9dad"
      },
      "outputs": [
        {
          "data": {
            "text/plain": [
              "10"
            ]
          },
          "execution_count": 56,
          "metadata": {},
          "output_type": "execute_result"
        }
      ],
      "source": [
        "best_c = lr_model.cv_results_['params'][lr_model.best_index_]['C']\n",
        "best_c"
      ]
    },
    {
      "cell_type": "code",
      "execution_count": 57,
      "metadata": {
        "id": "9k8ia4qOhD4Z"
      },
      "outputs": [],
      "source": [
        "# TEST & METRICS & ERROR ANALYSIS\n",
        "\n",
        "best_lr_model = LogisticRegression(C=best_c).fit(x_train_tfidf, y_train)"
      ]
    },
    {
      "cell_type": "code",
      "execution_count": 59,
      "metadata": {
        "colab": {
          "base_uri": "https://localhost:8080/"
        },
        "id": "TLFoWG4Vge7a",
        "outputId": "365c85e8-99b9-4635-a685-740e7ec3ca26"
      },
      "outputs": [
        {
          "data": {
            "text/plain": [
              "158                          ok bye sofy\n",
              "21                            ello sofi.\n",
              "419    gracias sofy, tengo otra pregunta\n",
              "10                                bonita\n",
              "96                    sofy como  va todo\n",
              "Name: Utterance, dtype: object"
            ]
          },
          "execution_count": 59,
          "metadata": {},
          "output_type": "execute_result"
        }
      ],
      "source": [
        "X_test.head()"
      ]
    },
    {
      "cell_type": "code",
      "execution_count": null,
      "metadata": {
        "id": "xGPAHkLQgliE"
      },
      "outputs": [],
      "source": [
        "# PROCESAMIENTO DEL CONJUNTO DE TEST"
      ]
    },
    {
      "cell_type": "code",
      "execution_count": 58,
      "metadata": {
        "colab": {
          "base_uri": "https://localhost:8080/"
        },
        "id": "j1ZqJuEYTT8Z",
        "outputId": "5bd427ce-5a76-4df1-c668-40d94efe5b4f"
      },
      "outputs": [
        {
          "data": {
            "text/plain": [
              "<106x331 sparse matrix of type '<class 'numpy.float64'>'\n",
              "\twith 236 stored elements in Compressed Sparse Row format>"
            ]
          },
          "execution_count": 58,
          "metadata": {},
          "output_type": "execute_result"
        }
      ],
      "source": [
        "x_test_tfidf = tfidf_vect.transform(X_test)\n",
        "x_test_tfidf"
      ]
    },
    {
      "cell_type": "code",
      "execution_count": 60,
      "metadata": {
        "id": "ki2ai781VgpX"
      },
      "outputs": [],
      "source": [
        "y_pred = best_lr_model.predict(x_test_tfidf)"
      ]
    },
    {
      "cell_type": "code",
      "execution_count": 61,
      "metadata": {
        "colab": {
          "base_uri": "https://localhost:8080/",
          "height": 296
        },
        "id": "te2R1WCZThFg",
        "outputId": "177df0a8-f7a5-49ba-a6d6-09d9e8c28235"
      },
      "outputs": [
        {
          "data": {
            "text/plain": [
              "<sklearn.metrics._plot.confusion_matrix.ConfusionMatrixDisplay at 0x7fccff982c50>"
            ]
          },
          "execution_count": 61,
          "metadata": {},
          "output_type": "execute_result"
        },
        {
          "data": {
            "image/png": "[encoded data removed]",
            "text/plain": [
              "<Figure size 432x288 with 2 Axes>"
            ]
          },
          "metadata": {
            "needs_background": "light"
          },
          "output_type": "display_data"
        }
      ],
      "source": [
        "from sklearn.metrics import confusion_matrix, ConfusionMatrixDisplay, classification_report\n",
        "cm = confusion_matrix(y_test, y_pred)\n",
        "disp = ConfusionMatrixDisplay(confusion_matrix=cm)\n",
        "disp.plot()"
      ]
    },
    {
      "cell_type": "code",
      "execution_count": 62,
      "metadata": {
        "colab": {
          "base_uri": "https://localhost:8080/"
        },
        "id": "RUm7RSLXT4Jp",
        "outputId": "f2e85dca-2b3d-4941-82de-79b13361b6a7"
      },
      "outputs": [
        {
          "name": "stdout",
          "output_type": "stream",
          "text": [
            "              precision    recall  f1-score   support\n",
            "\n",
            "           0       0.50      0.72      0.59        18\n",
            "           1       0.91      0.66      0.76        32\n",
            "           2       0.76      0.89      0.82        18\n",
            "           3       0.92      0.87      0.89        38\n",
            "\n",
            "    accuracy                           0.78       106\n",
            "   macro avg       0.77      0.78      0.77       106\n",
            "weighted avg       0.82      0.78      0.79       106\n",
            "\n"
          ]
        }
      ],
      "source": [
        "print(classification_report(y_test, y_pred))"
      ]
    },
    {
      "cell_type": "code",
      "execution_count": 63,
      "metadata": {
        "id": "YuOlroXRrwLd"
      },
      "outputs": [],
      "source": [
        "# TRAIN MODEL WITH ALL DATA FOR PRODUCTION\n",
        "tfidf_vect = TfidfVectorizer()\n",
        "tfidf_vect.fit(x)\n",
        "x_tfidf = tfidf_vect.transform(x)\n",
        "\n",
        "pdn_lr_model = LogisticRegression(C=best_c).fit(x_tfidf, y)"
      ]
    },
    {
      "cell_type": "code",
      "execution_count": 64,
      "metadata": {
        "colab": {
          "base_uri": "https://localhost:8080/"
        },
        "id": "DBMm0NbEiUsL",
        "outputId": "d4663cbb-b689-453b-b3e1-09704e91af00"
      },
      "outputs": [
        {
          "data": {
            "text/plain": [
              "LogisticRegression(C=10)"
            ]
          },
          "execution_count": 64,
          "metadata": {},
          "output_type": "execute_result"
        }
      ],
      "source": [
        "pdn_lr_model"
      ]
    },
    {
      "cell_type": "code",
      "execution_count": 67,
      "metadata": {
        "id": "5-7JzLdkqre9"
      },
      "outputs": [],
      "source": [
        "# \"SAVE FINAL MODEL\"\n",
        "pickle.dump(pdn_lr_model, open('nlp_model.pkl', 'wb'))\n",
        "pickle.dump(tfidf_vect, open('knowledgebase_vocabulary.pkl', 'wb'))\n",
        "pickle.dump(intent_names, open('intent_names.pkl', 'wb'))"
      ]
    }
  ],
  "metadata": {
    "colab": {
      "collapsed_sections": [],
      "provenance": []
    },
    "kernelspec": {
      "display_name": "Python 3.9.7 ('base')",
      "language": "python",
      "name": "python3"
    },
    "language_info": {
      "codemirror_mode": {
        "name": "ipython",
        "version": 3
      },
      "file_extension": ".py",
      "mimetype": "text/x-python",
      "name": "python",
      "nbconvert_exporter": "python",
      "pygments_lexer": "ipython3",
      "version": "3.9.7"
    },
    "vscode": {
      "interpreter": {
        "hash": "ad2bdc8ecc057115af97d19610ffacc2b4e99fae6737bb82f5d7fb13d2f2c186"
      }
    }
  },
  "nbformat": 4,
  "nbformat_minor": 0
}
